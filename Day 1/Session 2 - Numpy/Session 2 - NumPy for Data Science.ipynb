{
 "cells": [
  {
   "cell_type": "markdown",
   "metadata": {},
   "source": [
    "#### List Recap \n",
    "* Powerful\n",
    "* Collection of values\n",
    "* Holds different types\n",
    "* Change, Add, Remove\n",
    "\n",
    "* Need For Data Science Is :\n",
    "    * Mathematical Operations over a Collection\n",
    "    * Speed"
   ]
  },
  {
   "cell_type": "code",
   "execution_count": 35,
   "metadata": {
    "collapsed": false
   },
   "outputs": [],
   "source": [
    "# illustration \n",
    "\n",
    "height = [1.23,3.26,4.1,2.2]"
   ]
  },
  {
   "cell_type": "code",
   "execution_count": 36,
   "metadata": {
    "collapsed": false
   },
   "outputs": [
    {
     "data": {
      "text/plain": [
       "[1.23, 3.26, 4.1, 2.2]"
      ]
     },
     "execution_count": 36,
     "metadata": {},
     "output_type": "execute_result"
    }
   ],
   "source": [
    "height"
   ]
  },
  {
   "cell_type": "code",
   "execution_count": 37,
   "metadata": {
    "collapsed": true
   },
   "outputs": [],
   "source": [
    "weight = [42.03,56.2,72.0,65.45]"
   ]
  },
  {
   "cell_type": "code",
   "execution_count": 38,
   "metadata": {
    "collapsed": false
   },
   "outputs": [
    {
     "data": {
      "text/plain": [
       "[42.03, 56.2, 72.0, 65.45]"
      ]
     },
     "execution_count": 38,
     "metadata": {},
     "output_type": "execute_result"
    }
   ],
   "source": [
    "weight"
   ]
  },
  {
   "cell_type": "code",
   "execution_count": 39,
   "metadata": {
    "collapsed": false
   },
   "outputs": [
    {
     "ename": "TypeError",
     "evalue": "unsupported operand type(s) for ** or pow(): 'list' and 'int'",
     "output_type": "error",
     "traceback": [
      "\u001b[0;31m---------------------------------------------------------------------------\u001b[0m",
      "\u001b[0;31mTypeError\u001b[0m                                 Traceback (most recent call last)",
      "\u001b[0;32m<ipython-input-39-6ab7ce913d0a>\u001b[0m in \u001b[0;36m<module>\u001b[0;34m()\u001b[0m\n\u001b[0;32m----> 1\u001b[0;31m \u001b[0mweight\u001b[0m \u001b[1;33m/\u001b[0m \u001b[0mheight\u001b[0m \u001b[1;33m**\u001b[0m \u001b[1;36m2\u001b[0m\u001b[1;33m\u001b[0m\u001b[0m\n\u001b[0m",
      "\u001b[0;31mTypeError\u001b[0m: unsupported operand type(s) for ** or pow(): 'list' and 'int'"
     ]
    }
   ],
   "source": [
    "weight / height ** 2"
   ]
  },
  {
   "cell_type": "markdown",
   "metadata": {},
   "source": [
    "#### Solution : NumPy\n",
    "* Numeric python\n",
    "* Alternative to python list : NumPy array\n",
    "* Calculation over entire array\n",
    "* Easy and Fast"
   ]
  },
  {
   "cell_type": "code",
   "execution_count": 40,
   "metadata": {
    "collapsed": true
   },
   "outputs": [],
   "source": [
    "import numpy as np"
   ]
  },
  {
   "cell_type": "code",
   "execution_count": 41,
   "metadata": {
    "collapsed": true
   },
   "outputs": [],
   "source": [
    "np_height = np.array(height)"
   ]
  },
  {
   "cell_type": "code",
   "execution_count": 42,
   "metadata": {
    "collapsed": false
   },
   "outputs": [
    {
     "data": {
      "text/plain": [
       "array([ 1.23,  3.26,  4.1 ,  2.2 ])"
      ]
     },
     "execution_count": 42,
     "metadata": {},
     "output_type": "execute_result"
    }
   ],
   "source": [
    "np_height"
   ]
  },
  {
   "cell_type": "code",
   "execution_count": 43,
   "metadata": {
    "collapsed": true
   },
   "outputs": [],
   "source": [
    "np_weight = np.array(weight)"
   ]
  },
  {
   "cell_type": "code",
   "execution_count": 44,
   "metadata": {
    "collapsed": false
   },
   "outputs": [
    {
     "data": {
      "text/plain": [
       "array([ 42.03,  56.2 ,  72.  ,  65.45])"
      ]
     },
     "execution_count": 44,
     "metadata": {},
     "output_type": "execute_result"
    }
   ],
   "source": [
    "np_weight"
   ]
  },
  {
   "cell_type": "code",
   "execution_count": 45,
   "metadata": {
    "collapsed": false
   },
   "outputs": [],
   "source": [
    "bmi = np_weight/ np_height **2"
   ]
  },
  {
   "cell_type": "code",
   "execution_count": 46,
   "metadata": {
    "collapsed": false
   },
   "outputs": [
    {
     "data": {
      "text/plain": [
       "array([ 27.78108269,   5.28811773,   4.28316478,  13.52272727])"
      ]
     },
     "execution_count": 46,
     "metadata": {},
     "output_type": "execute_result"
    }
   ],
   "source": [
    "bmi"
   ]
  },
  {
   "cell_type": "markdown",
   "metadata": {},
   "source": [
    "#### NumPy Remarks\n",
    "* Numpy contains only element of same type\n",
    "* Numpy comes with its own methods which behaves differently "
   ]
  },
  {
   "cell_type": "code",
   "execution_count": 47,
   "metadata": {
    "collapsed": false
   },
   "outputs": [
    {
     "data": {
      "text/plain": [
       "array(['1.23', 'is', 'True'], \n",
       "      dtype='<U32')"
      ]
     },
     "execution_count": 47,
     "metadata": {},
     "output_type": "execute_result"
    }
   ],
   "source": [
    "# Numpy contains only element of same type\n",
    "\n",
    "np.array([1.23,\"is\",True])\n",
    "\n",
    "# Output : All get converted into string"
   ]
  },
  {
   "cell_type": "code",
   "execution_count": 48,
   "metadata": {
    "collapsed": true
   },
   "outputs": [],
   "source": [
    "# Numpy comes with its own methods which behaves differently \n",
    "\n",
    "python_list = [1,2,3]\n",
    "\n",
    "np_array = np.array([1,2,3])"
   ]
  },
  {
   "cell_type": "code",
   "execution_count": 49,
   "metadata": {
    "collapsed": false
   },
   "outputs": [
    {
     "data": {
      "text/plain": [
       "[1, 2, 3, 1, 2, 3]"
      ]
     },
     "execution_count": 49,
     "metadata": {},
     "output_type": "execute_result"
    }
   ],
   "source": [
    "python_list + python_list"
   ]
  },
  {
   "cell_type": "code",
   "execution_count": 50,
   "metadata": {
    "collapsed": false
   },
   "outputs": [
    {
     "data": {
      "text/plain": [
       "array([2, 4, 6])"
      ]
     },
     "execution_count": 50,
     "metadata": {},
     "output_type": "execute_result"
    }
   ],
   "source": [
    "np_array +np_array"
   ]
  },
  {
   "cell_type": "markdown",
   "metadata": {},
   "source": [
    "#### NumPy Subnetting\n",
    "* Works same as Python list to get elements from the array"
   ]
  },
  {
   "cell_type": "code",
   "execution_count": 51,
   "metadata": {
    "collapsed": false
   },
   "outputs": [
    {
     "data": {
      "text/plain": [
       "array([ 27.78108269,   5.28811773,   4.28316478,  13.52272727])"
      ]
     },
     "execution_count": 51,
     "metadata": {},
     "output_type": "execute_result"
    }
   ],
   "source": [
    "bmi"
   ]
  },
  {
   "cell_type": "code",
   "execution_count": 52,
   "metadata": {
    "collapsed": false
   },
   "outputs": [
    {
     "data": {
      "text/plain": [
       "5.2881177311904857"
      ]
     },
     "execution_count": 52,
     "metadata": {},
     "output_type": "execute_result"
    }
   ],
   "source": [
    "# Get the bmi for the second person \n",
    "bmi[1]"
   ]
  },
  {
   "cell_type": "code",
   "execution_count": 53,
   "metadata": {
    "collapsed": false
   },
   "outputs": [
    {
     "data": {
      "text/plain": [
       "array([ True, False, False, False], dtype=bool)"
      ]
     },
     "execution_count": 53,
     "metadata": {},
     "output_type": "execute_result"
    }
   ],
   "source": [
    "# Get bmi above 20\n",
    "bmi >20"
   ]
  },
  {
   "cell_type": "code",
   "execution_count": 54,
   "metadata": {
    "collapsed": false
   },
   "outputs": [
    {
     "data": {
      "text/plain": [
       "array([ 27.78108269])"
      ]
     },
     "execution_count": 54,
     "metadata": {},
     "output_type": "execute_result"
    }
   ],
   "source": [
    "# Get bmi above 20\n",
    "bmi[bmi> 20]"
   ]
  },
  {
   "cell_type": "markdown",
   "metadata": {},
   "source": [
    "## Lets Practice !!!"
   ]
  },
  {
   "cell_type": "markdown",
   "metadata": {},
   "source": [
    "##### Excercise 1.1:\n",
    "* Import the numpy package as np, so that you can refer to numpy with np.\n",
    "* Use np.array() to create a numpy array from baseball. Name this array np_baseball.\n",
    "* Print out the type of np_baseball to check that you got it right.\n",
    "\n",
    "Code Snippet :\n",
    "    # Create list baseball\n",
    "    baseball = [180, 215, 210, 210, 188, 176, 209, 200]\n",
    "\n",
    "    #Import the numpy package as np\n",
    "\n",
    "    #Create a numpy array from baseball: np_baseball\n",
    "\n",
    "    #Print out type of np_baseball\n",
    "\n",
    " "
   ]
  },
  {
   "cell_type": "code",
   "execution_count": 55,
   "metadata": {
    "collapsed": false
   },
   "outputs": [
    {
     "name": "stdout",
     "output_type": "stream",
     "text": [
      "<class 'numpy.ndarray'>\n"
     ]
    }
   ],
   "source": [
    "## Solution \n",
    "\n",
    "# Create list baseball\n",
    "baseball = [180, 215, 210, 210, 188, 176, 209, 200]\n",
    "\n",
    "# Import the numpy package as np\n",
    "import numpy as np\n",
    "\n",
    "# Create a numpy array from baseball: np_baseball\n",
    "np_baseball = np.array(baseball)\n",
    "\n",
    "# Print out type of np_baseball\n",
    "print(type(np_baseball))"
   ]
  },
  {
   "cell_type": "markdown",
   "metadata": {},
   "source": [
    "##### Excercise 1.2:\n",
    "* Create a numpy array from height. Name this new array np_height.\n",
    "* Print np_height.\n",
    "* Multiply np_height with 0.0254 to convert all height measurements from inches to meters. Store the new values in a new array, np_height_m.\n",
    "* Print out np_height_m and check if the output makes sense.\n",
    "\n",
    "Code Snippet :\n",
    "    # height \n",
    "    height = [74, 74, 72,75, 75, 73]\n",
    "\n",
    "    #Import numpy\n",
    "    import numpy as np\n",
    "\n",
    "    #Create a numpy array from height: np_height\n",
    "\n",
    "    #Print out np_height\n",
    "\n",
    "    #Convert np_height to m: np_height_m\n",
    "\n",
    "    #Print np_height_m\n",
    "\n",
    "Source : [stat.ucla.edu](http://wiki.stat.ucla.edu/socr/index.php/SOCR_Data_MLB_HeightsWeights)"
   ]
  },
  {
   "cell_type": "code",
   "execution_count": 56,
   "metadata": {
    "collapsed": false
   },
   "outputs": [
    {
     "name": "stdout",
     "output_type": "stream",
     "text": [
      "[74 74 72 75 75 73]\n",
      "[ 1.8796  1.8796  1.8288  1.905   1.905   1.8542]\n"
     ]
    }
   ],
   "source": [
    "## Solution \n",
    "\n",
    "# height \n",
    "height = [74, 74, 72,75, 75, 73]\n",
    "\n",
    "# Import numpy\n",
    "import numpy as np\n",
    "\n",
    "# Create a numpy array from height: np_height\n",
    "np_height = np.array(height)\n",
    "\n",
    "# Print out np_height\n",
    "print(np_height)\n",
    "\n",
    "# Convert np_height to m: np_height_m\n",
    "np_height_m = np_height * 0.0254 \n",
    "\n",
    "# Print np_height_m\n",
    "print(np_height_m)"
   ]
  },
  {
   "cell_type": "markdown",
   "metadata": {},
   "source": [
    "##### Excercise 1.3:\n",
    "* Create a numpy array from the weight list with the correct units. Multiply by 0.453592 to go from pounds to kilograms. Store the resulting numpy array as np_weight_kg.\n",
    "* Use np_height_m and np_weight_kg to calculate the BMI of each player. Use the following equation:\n",
    "* Save the resulting numpy array as bmi.\n",
    "* Print out bmi\n",
    "\n",
    "Code Snippet :\n",
    "    # height in Inches\n",
    "    height = [74, 74, 72,75, 75, 73]\n",
    "    #weight in ponds\n",
    "    weight = [180,215,210,195,203,220]\n",
    "\n",
    "    #Import numpy\n",
    "    import numpy as np\n",
    "\n",
    "    #Create array from height with correct units: np_height_m\n",
    "    np_height_m = np.array(height) * 0.0254\n",
    "\n",
    "    #Create array from weight with correct units: np_weight_kg\n",
    "\n",
    "    #Calculate the BMI: bmi\n",
    "\n",
    "    #Print out bmi\n",
    "\n",
    "\n",
    "Source : [stat.ucla.edu](http://wiki.stat.ucla.edu/socr/index.php/SOCR_Data_MLB_HeightsWeights)"
   ]
  },
  {
   "cell_type": "code",
   "execution_count": 57,
   "metadata": {
    "collapsed": false
   },
   "outputs": [
    {
     "name": "stdout",
     "output_type": "stream",
     "text": [
      "[ 23.11037639  27.60406069  28.48080465  24.37305888  25.37297924\n",
      "  29.02517946]\n"
     ]
    }
   ],
   "source": [
    "## Solution \n",
    "\n",
    "# height in Inches \n",
    "height = [74, 74, 72,75, 75, 73]\n",
    "\n",
    "#weight in ponds\n",
    "weight = [180,215,210,195,203,220]\n",
    "\n",
    "# Import numpy\n",
    "import numpy as np\n",
    "\n",
    "# Create array from height with correct units: np_height_m\n",
    "np_height_m = np.array(height) * 0.0254\n",
    "\n",
    "# Create array from weight with correct units: np_weight_kg\n",
    "np_weight_kg = np.array(weight) * 0.453592\n",
    "\n",
    "# Calculate the BMI: bmi\n",
    "bmi = np_weight_kg/ np_height_m **2\n",
    "\n",
    "# Print out bmi\n",
    "print(bmi)"
   ]
  },
  {
   "cell_type": "markdown",
   "metadata": {},
   "source": [
    "##### Excercise 1.4:\n",
    "* Create a boolean numpy array: the element of the array should be True if the corresponding baseball player's BMI is below 24. You can use the < operator for this. Name the array light.\n",
    "* Print the array light.\n",
    "* Print out a numpy array with the BMIs of all baseball players whose BMI is below 24. Use light inside square brackets to do a selection on the bmi array.\n",
    "\n",
    "Code Snippet :\n",
    "    # height in Inches\n",
    "    height = [74, 74, 72,75, 75, 73]\n",
    "    #weight in ponds\n",
    "    weight = [180,215,210,195,203,220]\n",
    "\n",
    "    #Import numpy\n",
    "    import numpy as np\n",
    "\n",
    "    #Calculate the BMI: bmi\n",
    "    np_height_m = np.array(height) * 0.0254\n",
    "    np_weight_kg = np.array(weight) * 0.453592\n",
    "    bmi = np_weight_kg / np_height_m ** 2\n",
    "\n",
    "    #Create the light array\n",
    "\n",
    "    #Print out light\n",
    "    \n",
    "    #Print out BMIs of all baseball players whose BMI is below 21\n",
    "\n",
    "\n",
    "Source : [stat.ucla.edu](http://wiki.stat.ucla.edu/socr/index.php/SOCR_Data_MLB_HeightsWeights)"
   ]
  },
  {
   "cell_type": "code",
   "execution_count": 59,
   "metadata": {
    "collapsed": false
   },
   "outputs": [
    {
     "name": "stdout",
     "output_type": "stream",
     "text": [
      "[ True False False False False False]\n",
      "[ 23.11037639]\n"
     ]
    }
   ],
   "source": [
    "## Solution \n",
    "\n",
    "# height in Inches\n",
    "height = [74, 74, 72,75, 75, 73]\n",
    "#weight in ponds\n",
    "weight = [180,215,210,195,203,220]\n",
    "\n",
    "# Import numpy\n",
    "import numpy as np\n",
    "\n",
    "# Calculate the BMI: bmi\n",
    "np_height_m = np.array(height) * 0.0254\n",
    "np_weight_kg = np.array(weight) * 0.453592\n",
    "bmi = np_weight_kg / np_height_m ** 2\n",
    "\n",
    "# Create the light array\n",
    "light = bmi < 24\n",
    "\n",
    "# Print out light\n",
    "print(light)\n",
    "\n",
    "# Print out BMIs of all baseball players whose BMI is below 21\n",
    "print(bmi[light])"
   ]
  },
  {
   "cell_type": "markdown",
   "metadata": {},
   "source": [
    "##### Excercise 1.5:\n",
    "* Subset np_weight: print out the element at index 5.\n",
    "* Print out a sub-array of np_height: It contains the elements at index 1 up to and including index 4\n",
    "\n",
    "Code Snippet :\n",
    "    # height in Inches\n",
    "    height = [74, 74, 72,75, 75, 73]\n",
    "    #weight in ponds\n",
    "    weight = [180,215,210,195,203,220]\n",
    "\n",
    "    #Import numpy\n",
    "    import numpy as np\n",
    "\n",
    "    #Store weight and height lists as numpy arrays\n",
    "    np_weight = np.array(weight)\n",
    "    np_height = np.array(height)\n",
    "\n",
    "    #Print out the weight at index 5\n",
    "\n",
    "    #Print out sub-array of np_height: index 1 up to and including index 4\n",
    "\n"
   ]
  },
  {
   "cell_type": "code",
   "execution_count": 60,
   "metadata": {
    "collapsed": false
   },
   "outputs": [
    {
     "name": "stdout",
     "output_type": "stream",
     "text": [
      "220\n",
      "[74 72 75]\n"
     ]
    }
   ],
   "source": [
    "## Solution \n",
    "\n",
    "# height in Inches\n",
    "height = [74, 74, 72,75, 75, 73]\n",
    "#weight in ponds\n",
    "weight = [180,215,210,195,203,220]\n",
    "\n",
    "#Import numpy\n",
    "import numpy as np\n",
    "\n",
    "#Store weight and height lists as numpy arrays\n",
    "np_weight = np.array(weight)\n",
    "np_height = np.array(height)\n",
    "\n",
    "#Print out the weight at index 5\n",
    "print(np_weight[5])\n",
    "\n",
    "#Print out sub-array of np_height: index 1 up to and including index 4\n",
    "print(np_height[1:4])"
   ]
  },
  {
   "cell_type": "markdown",
   "metadata": {},
   "source": [
    "#### 2D NumPy Arrays\n",
    "* ndarray stands for N Dimensional Array \n",
    "* Single type"
   ]
  },
  {
   "cell_type": "code",
   "execution_count": 71,
   "metadata": {
    "collapsed": false
   },
   "outputs": [
    {
     "name": "stdout",
     "output_type": "stream",
     "text": [
      "<class 'numpy.ndarray'>\n"
     ]
    }
   ],
   "source": [
    "import numpy as np \n",
    "\n",
    "height = [1.23,3.26,4.1,2.2]\n",
    "\n",
    "np_height = np.array(height)\n",
    "\n",
    "print(type(np_height))"
   ]
  },
  {
   "cell_type": "code",
   "execution_count": 72,
   "metadata": {
    "collapsed": false
   },
   "outputs": [],
   "source": [
    "# creating 2D array\n",
    "\n",
    "np_2d = np.array([[1.23,3.26,4.1,2.2],[52,45.2,65.12,78.25]])"
   ]
  },
  {
   "cell_type": "code",
   "execution_count": 73,
   "metadata": {
    "collapsed": false
   },
   "outputs": [
    {
     "data": {
      "text/plain": [
       "array([[  1.23,   3.26,   4.1 ,   2.2 ],\n",
       "       [ 52.  ,  45.2 ,  65.12,  78.25]])"
      ]
     },
     "execution_count": 73,
     "metadata": {},
     "output_type": "execute_result"
    }
   ],
   "source": [
    "np_2d"
   ]
  },
  {
   "cell_type": "code",
   "execution_count": 74,
   "metadata": {
    "collapsed": false
   },
   "outputs": [
    {
     "data": {
      "text/plain": [
       "(2, 4)"
      ]
     },
     "execution_count": 74,
     "metadata": {},
     "output_type": "execute_result"
    }
   ],
   "source": [
    "# Shape (2,4) ie 2 rows and 4 columns\n",
    "np_2d.shape"
   ]
  },
  {
   "cell_type": "code",
   "execution_count": 75,
   "metadata": {
    "collapsed": false
   },
   "outputs": [
    {
     "data": {
      "text/plain": [
       "array([ 1.23,  3.26,  4.1 ,  2.2 ])"
      ]
     },
     "execution_count": 75,
     "metadata": {},
     "output_type": "execute_result"
    }
   ],
   "source": [
    "# to get all element in first row\n",
    "np_2d[0]"
   ]
  },
  {
   "cell_type": "code",
   "execution_count": 77,
   "metadata": {
    "collapsed": false
   },
   "outputs": [
    {
     "data": {
      "text/plain": [
       "3.2599999999999998"
      ]
     },
     "execution_count": 77,
     "metadata": {},
     "output_type": "execute_result"
    }
   ],
   "source": [
    "# To get second element of row 1\n",
    "np_2d[0][1]"
   ]
  },
  {
   "cell_type": "code",
   "execution_count": 78,
   "metadata": {
    "collapsed": false
   },
   "outputs": [
    {
     "data": {
      "text/plain": [
       "3.2599999999999998"
      ]
     },
     "execution_count": 78,
     "metadata": {},
     "output_type": "execute_result"
    }
   ],
   "source": [
    "# this can also be done as \n",
    "np_2d[0,1]"
   ]
  },
  {
   "cell_type": "code",
   "execution_count": 80,
   "metadata": {
    "collapsed": false
   },
   "outputs": [
    {
     "data": {
      "text/plain": [
       "array([[  3.26,   4.1 ],\n",
       "       [ 45.2 ,  65.12]])"
      ]
     },
     "execution_count": 80,
     "metadata": {},
     "output_type": "execute_result"
    }
   ],
   "source": [
    "# If you want the second and third height and weight\n",
    "\n",
    "np_2d[:,1:3]"
   ]
  },
  {
   "cell_type": "code",
   "execution_count": 81,
   "metadata": {
    "collapsed": false
   },
   "outputs": [
    {
     "data": {
      "text/plain": [
       "array([ 52.  ,  45.2 ,  65.12,  78.25])"
      ]
     },
     "execution_count": 81,
     "metadata": {},
     "output_type": "execute_result"
    }
   ],
   "source": [
    "# get the weight of all family members\n",
    "np_2d[1, :]"
   ]
  },
  {
   "cell_type": "markdown",
   "metadata": {},
   "source": [
    "##### Excercise 1.6:\n",
    "* Use np.array() to create a 2D numpy array from baseball. Name it np_baseball.\n",
    "* Print out the type of np_baseball.\n",
    "* Print out the shape attribute of np_baseball. Use np_baseball.shape.\n",
    "\n",
    "Code Snippet :\n",
    "    # Create baseball, a list of lists\n",
    "    baseball = [[180, 78.4],\n",
    "                [215, 102.7],\n",
    "                [210, 98.5],\n",
    "                [188, 75.2]]\n",
    "\n",
    "    #Import numpy\n",
    "    import numpy as np\n",
    "\n",
    "    #Create a 2D numpy array from baseball: np_baseball\n",
    "\n",
    "    #Print out the type of np_baseball\n",
    "\n",
    "    #Print out the shape of np_baseball\n"
   ]
  },
  {
   "cell_type": "code",
   "execution_count": 82,
   "metadata": {
    "collapsed": false
   },
   "outputs": [
    {
     "name": "stdout",
     "output_type": "stream",
     "text": [
      "<class 'numpy.ndarray'>\n",
      "(4, 2)\n"
     ]
    }
   ],
   "source": [
    "## Solution \n",
    "\n",
    "# Create baseball, a list of lists\n",
    "baseball = [[180, 78.4],\n",
    "            [215, 102.7],\n",
    "            [210, 98.5],\n",
    "            [188, 75.2]]\n",
    "\n",
    "# Import numpy\n",
    "import numpy as np\n",
    "\n",
    "# Create a 2D numpy array from baseball: np_baseball\n",
    "np_baseball = np.array(baseball)\n",
    "\n",
    "# Print out the type of np_baseball\n",
    "print(type(np_baseball))\n",
    "\n",
    "# Print out the shape of np_baseball\n",
    "print(np_baseball.shape)\n"
   ]
  },
  {
   "cell_type": "markdown",
   "metadata": {},
   "source": [
    "##### Excercise 1.7:\n",
    "* Print out the 50th row of np_baseball.\n",
    "* Make a new variable, np_weight, containing the entire second column of np_baseball.\n",
    "* Select the height (first column) of the 124th baseball player in np_baseball and print it out.\n",
    "\n",
    "Code Snippet :\n",
    "    # Create baseball, a list of lists\n",
    "    baseball = [[180, 78.4],\n",
    "                [215, 102.7],\n",
    "                [210, 98.5],\n",
    "                [188, 75.2]]\n",
    "\n",
    "    #Import numpy package\n",
    "    import numpy as np\n",
    "\n",
    "    #Create np_baseball (2 cols)\n",
    "    np_baseball = np.array(baseball)\n",
    "\n",
    "    #Print out the 5th row of np_baseball\n",
    "\n",
    "    #Select the entire second column of np_baseball: np_weight\n",
    "\n",
    "    #Print out height of 3rd player\n"
   ]
  },
  {
   "cell_type": "code",
   "execution_count": 88,
   "metadata": {
    "collapsed": false
   },
   "outputs": [
    {
     "name": "stdout",
     "output_type": "stream",
     "text": [
      "[ 215.   102.7]\n",
      "210.0\n"
     ]
    }
   ],
   "source": [
    "## Solution \n",
    "\n",
    "# Create baseball, a list of lists\n",
    "baseball = [[180, 78.4],\n",
    "            [215, 102.7],\n",
    "            [210, 98.5],\n",
    "            [188, 75.2]]\n",
    "\n",
    "#Import numpy package\n",
    "import numpy as np\n",
    "\n",
    "#Create np_baseball (2 cols)\n",
    "np_baseball = np.array(baseball)\n",
    "\n",
    "#Print out the 2th row of np_baseball\n",
    "print(np_baseball[1,:])\n",
    "\n",
    "#Select the entire second column of np_baseball: np_weight\n",
    "np_weight = np_baseball[:,1]\n",
    "\n",
    "#Print out height of 3rd player\n",
    "print(np_baseball[2,0])\n"
   ]
  },
  {
   "cell_type": "markdown",
   "metadata": {},
   "source": [
    "##### Excercise 1.8:\n",
    "* You want to convert the units of height and weight. As a first step, create a numpy array with three values: 0.0254 and 0.453592. Name this array conversion.\n",
    "* Multiply np_baseball with conversion and print out the result..\n",
    "\n",
    "Code Snippet :\n",
    "    # Create baseball, a list of lists\n",
    "    baseball = [[180, 78.4],\n",
    "                [215, 102.7],\n",
    "                [210, 98.5],\n",
    "                [188, 75.2]]\n",
    "\n",
    "    #Import numpy package\n",
    "    import numpy as np\n",
    "\n",
    "    #Create np_baseball (2 cols)\n",
    "    np_baseball = np.array(baseball)\n",
    "        \n",
    "    #Create numpy array: conversion\n",
    "\n",
    "    #Print out product of np_baseball and conversion\n",
    "  \n"
   ]
  },
  {
   "cell_type": "code",
   "execution_count": 90,
   "metadata": {
    "collapsed": false
   },
   "outputs": [
    {
     "name": "stdout",
     "output_type": "stream",
     "text": [
      "[[  4.572      35.5616128]\n",
      " [  5.461      46.5838984]\n",
      " [  5.334      44.678812 ]\n",
      " [  4.7752     34.1101184]]\n"
     ]
    }
   ],
   "source": [
    "## Solution \n",
    "\n",
    " # Create baseball, a list of lists\n",
    "baseball = [[180, 78.4],\n",
    "                [215, 102.7],\n",
    "                [210, 98.5],\n",
    "                [188, 75.2]]\n",
    "\n",
    "#Import numpy package\n",
    "import numpy as np\n",
    "\n",
    "#Create np_baseball (2 cols)\n",
    "np_baseball = np.array(baseball)\n",
    "        \n",
    "#Create numpy array: conversion\n",
    "conversion = np.array([ 0.0254, 0.453592])\n",
    "\n",
    "#Print out product of np_baseball and conversion\n",
    "print(np_baseball * conversion)"
   ]
  },
  {
   "cell_type": "markdown",
   "metadata": {},
   "source": [
    "#### NumPy: Basic Statistics\n",
    "* number crunching"
   ]
  },
  {
   "cell_type": "code",
   "execution_count": 98,
   "metadata": {
    "collapsed": true
   },
   "outputs": [],
   "source": [
    "import numpy as np\n",
    "height_weight = [[5.5, 78.4],\n",
    "                [8.5, 102.7],\n",
    "                [7.7, 98.5],\n",
    "                [8.6, 75.2]]"
   ]
  },
  {
   "cell_type": "code",
   "execution_count": 99,
   "metadata": {
    "collapsed": false
   },
   "outputs": [
    {
     "data": {
      "text/plain": [
       "array([[   5.5,   78.4],\n",
       "       [   8.5,  102.7],\n",
       "       [   7.7,   98.5],\n",
       "       [   8.6,   75.2]])"
      ]
     },
     "execution_count": 99,
     "metadata": {},
     "output_type": "execute_result"
    }
   ],
   "source": [
    "np_data = np.array(height_weight)\n",
    "np_data"
   ]
  },
  {
   "cell_type": "code",
   "execution_count": 101,
   "metadata": {
    "collapsed": false
   },
   "outputs": [
    {
     "data": {
      "text/plain": [
       "7.5749999999999993"
      ]
     },
     "execution_count": 101,
     "metadata": {},
     "output_type": "execute_result"
    }
   ],
   "source": [
    "# Calculating Mean of heights\n",
    "np.mean(np_data[:,0])"
   ]
  },
  {
   "cell_type": "code",
   "execution_count": 102,
   "metadata": {
    "collapsed": false
   },
   "outputs": [
    {
     "data": {
      "text/plain": [
       "8.0999999999999996"
      ]
     },
     "execution_count": 102,
     "metadata": {},
     "output_type": "execute_result"
    }
   ],
   "source": [
    "# Calculating Median of heights\n",
    "np.median(np_data[:,0])"
   ]
  },
  {
   "cell_type": "code",
   "execution_count": 103,
   "metadata": {
    "collapsed": false
   },
   "outputs": [
    {
     "data": {
      "text/plain": [
       "1.2477479713467781"
      ]
     },
     "execution_count": 103,
     "metadata": {},
     "output_type": "execute_result"
    }
   ],
   "source": [
    "# Calculating Standard Divation\n",
    "np.std(np_data[:,0])"
   ]
  },
  {
   "cell_type": "markdown",
   "metadata": {},
   "source": [
    "##### Excercise 1.9 :\n",
    "* Create numpy array np_height that is equal to first column of np_baseball.\n",
    "* Print out the mean of np_height.\n",
    "* Print out the median of np_height.\n",
    "\n",
    "Code Snippet :\n",
    "    # np_baseball is available\n",
    "    baseball = [[5.5, 78.4,23],\n",
    "                [8.5, 102.7,30],\n",
    "                [7.7, 98.5,28],\n",
    "                [8.6, 75.2,26]]\n",
    "                \n",
    "    np_baseball = np.array(baseball)\n",
    "\n",
    "    #Import numpy\n",
    "    import numpy as np\n",
    "\n",
    "    #Create np_height from np_baseball\n",
    "\n",
    "    #Print out the mean of np_height\n",
    "\n",
    "    #Print out the median of np_height "
   ]
  },
  {
   "cell_type": "code",
   "execution_count": 104,
   "metadata": {
    "collapsed": false
   },
   "outputs": [
    {
     "name": "stdout",
     "output_type": "stream",
     "text": [
      "7.575\n",
      "8.1\n"
     ]
    }
   ],
   "source": [
    "## Solution \n",
    "\n",
    "# np_baseball is available\n",
    "baseball = [[5.5, 78.4,23],\n",
    "            [8.5, 102.7,30],\n",
    "            [7.7, 98.5,28],\n",
    "            [8.6, 75.2,26]]\n",
    "\n",
    "np_baseball = np.array(baseball)\n",
    "\n",
    "#Import numpy\n",
    "import numpy as np\n",
    "\n",
    "# Create np_height from np_baseball\n",
    "np_height = np.array(np_baseball[:,0])\n",
    "\n",
    "# Print out the mean of np_height\n",
    "print(np.mean(np_height))\n",
    "\n",
    "# Print out the median of np_height\n",
    "print(np.median(np_height))"
   ]
  },
  {
   "cell_type": "markdown",
   "metadata": {},
   "source": [
    "##### Problem Defination :\n",
    "* You've contacted FIFA for some data and they handed you two lists. The lists are the following: positions = ['GK', 'M', 'A', 'D', ...] heights = [191, 184, 185, 180, ...] Each element in the lists corresponds to a player. The first list, positions, contains strings representing each player's position. The possible positions are: 'GK' (goalkeeper), 'M' (midfield), 'A' (attack) and 'D' (defense). The second list, heights, contains integers representing the height of the player in cm. The first player in the lists is a goalkeeper and is pretty tall (191 cm).\n",
    "\n",
    "* You're fairly confident that the median height of goalkeepers is higher than that of other players on the soccer field. Some of your friends don't believe you, so you are determined to show them using the data you received from FIFA and your newly acquired Python skills.\n",
    "\n",
    "\n",
    "##### Excercise 1.10 :\n",
    "* Convert heights and positions, which are regular lists, to numpy arrays. Call them np_heights and np_positions.\n",
    "* Extract all the heights of the goalkeepers. You can use a little trick here: use np_positions == 'GK' as an index for np_heights. Assign the result to gk_heights.\n",
    "* Extract all the heights of all the other players. This time use np_positions != 'GK' as an index for np_heights. Assign the result to other_heights.\n",
    "* Print out the median height of the goalkeepers using np.median(). Replace None with the correct code.\n",
    "* Do the same for the other players. Print out their median height. Replace None with the correct code..\n",
    "\n",
    "Code Snippet :\n",
    "    #heights and positions are available as lists\n",
    "\n",
    "    heights = [191, 184, 185, 180,210,203,185,192,201,189]\n",
    "    positions = ['D', 'M', 'A', 'GK','GK', 'A','GK','M'] \n",
    "                \n",
    "   \n",
    "    #Import numpy\n",
    "    import numpy as np\n",
    "\n",
    "    #Convert positions and heights to numpy arrays: np_positions, np_heights\n",
    "\n",
    "\n",
    "    #Heights of the goalkeepers: gk_heights\n",
    "\n",
    "    #Heights of the other players: other_heights\n",
    "\n",
    "    #Print out the median height of goalkeepers. Replace 'None'"
   ]
  },
  {
   "cell_type": "code",
   "execution_count": 108,
   "metadata": {
    "collapsed": false
   },
   "outputs": [
    {
     "name": "stdout",
     "output_type": "stream",
     "text": [
      "[180 210 185 201]\n",
      "[191 184 185 203 192 189]\n",
      "Median height of goalkeepers: 193.0\n",
      "Median height of other players: 190.0\n"
     ]
    }
   ],
   "source": [
    "## Solution \n",
    "\n",
    "#heights and positions are available as lists\n",
    "\n",
    "heights = [191, 184, 185, 180,210,203,185,192,201,189]\n",
    "positions = ['D', 'M', 'A', 'GK','GK', 'A','GK','M','GK','D'] \n",
    "\n",
    "# Import numpy\n",
    "import numpy as np\n",
    "\n",
    "# Convert positions and heights to numpy arrays: np_positions, np_heights\n",
    "np_positions = np.array(positions)\n",
    "np_heights = np.array(heights)\n",
    "\n",
    "\n",
    "# Heights of the goalkeepers: gk_heights\n",
    "gk_heights = np_heights[np_positions == 'GK']\n",
    "print(gk_heights)\n",
    "\n",
    "# Heights of the other players: other_heights\n",
    "other_heights = np_heights[np_positions != 'GK']\n",
    "print(other_heights)\n",
    "\n",
    "# Print out the median height of goalkeepers. Replace 'None'\n",
    "print(\"Median height of goalkeepers: \" + str(np.median(gk_heights)))\n",
    "\n",
    "# Print out the median height of other players. Replace 'None'\n",
    "print(\"Median height of other players: \" + str(np.median(other_heights)))"
   ]
  }
 ],
 "metadata": {
  "kernelspec": {
   "display_name": "Python 3",
   "language": "python",
   "name": "python3"
  },
  "language_info": {
   "codemirror_mode": {
    "name": "ipython",
    "version": 3
   },
   "file_extension": ".py",
   "mimetype": "text/x-python",
   "name": "python",
   "nbconvert_exporter": "python",
   "pygments_lexer": "ipython3",
   "version": "3.6.0"
  }
 },
 "nbformat": 4,
 "nbformat_minor": 2
}
